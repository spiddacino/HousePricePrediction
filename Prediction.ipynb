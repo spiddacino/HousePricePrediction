{
 "cells": [
  {
   "cell_type": "code",
   "execution_count": 1,
   "metadata": {},
   "outputs": [],
   "source": [
    "#unzip the data file and rename the unzipped file to data.csv\n",
    "import zipfile\n",
    "\n",
    "with zipfile.ZipFile('data/Melbourne_housing_FULL.zip', 'r') as zip_ref:\n",
    "    zip_ref.extractall('.')\n",
    "import os\n",
    "os.rename('Melbourne_housing_FULL.csv', 'data.csv')"
   ]
  }
 ],
 "metadata": {
  "kernelspec": {
   "display_name": "base",
   "language": "python",
   "name": "python3"
  },
  "language_info": {
   "codemirror_mode": {
    "name": "ipython",
    "version": 3
   },
   "file_extension": ".py",
   "mimetype": "text/x-python",
   "name": "python",
   "nbconvert_exporter": "python",
   "pygments_lexer": "ipython3",
   "version": "3.10.9"
  }
 },
 "nbformat": 4,
 "nbformat_minor": 2
}
